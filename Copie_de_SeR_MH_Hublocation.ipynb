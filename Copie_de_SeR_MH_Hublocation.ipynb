{
  "cells": [
    {
      "cell_type": "markdown",
      "metadata": {
        "id": "k4gSyrmCu9c7"
      },
      "source": [
        "# Some information on this notebook\n",
        "\n",
        "Google Colab provides an efficient environment for writing codes collaboratively with your **team mates**. \n",
        "\n",
        "For us **teachers**, this environment makes it possible to follow your work, whether we are all face-to-face at IMT Atlantique, in hybrid mode, or totally remote. \n",
        "\n",
        "This notebook offers you a **skeleton** of an ILS meta-heuristics, pre-configured for the use-case on the hub location problem. \n",
        "\n",
        "To collaborate with your team mates on this notebook, you should : \n",
        "\n",
        "- First **save a copy of this file in your Google Drive**: \n",
        "\n",
        "  Go to **File** / **Fichier**, then click on **Save a copy in Drive** / **Sauver une copie dans Google Drive**. \n",
        "\n",
        "- Then, **open that copy**, and **share that copy with your team mates** (and your teacher obviously): \n",
        "\n",
        "  Click on the top right on **Share** / **Partager**, then in the window **Obtenir le lien**, change the sharing method **Restricted** / **Limité** to **Anyone with the link** / **Tous les utilisateurs disposant du lien**, and change **Viewer** / **Lecteur** to **Editor** / **Editeur**. Finally click on **Copy link** / **Copier le lien**, and share this link with your team mates. \n",
        "\n",
        "The best is probably to put that link in the header of your Mattermost team, so that your teacher and your team mates can easily find it. \n",
        "\n",
        "**Before starting to code**, you should execute the first cell below, which helps you to upload the data files (in Excel format) to your notebook. You can also do this by hand, by: \n",
        "\n",
        "- Clicking on the left on the small **folder icon**, \n",
        "- Creating a **directory** for the data files (call it data), \n",
        "- **Uploading** the two Excel files provided in the website (the small and the large problem) in that directory. "
      ]
    },
    {
      "cell_type": "markdown",
      "metadata": {
        "id": "JQZiF7O9O2H3"
      },
      "source": [
        "\n",
        "# Upload of the data files (do only once !!)\n",
        "\n",
        "The cell below contains some code to\n",
        "\n",
        "- **Upload** the Excel files containing the **data** of the problems,\n",
        "- **Create** a **directory** for those files (we chose to call that directory `data` for some obvious reasons),\n",
        "- **Move** the data files to the `data` directory,\n",
        "- **Remove** the `sample_data` directory which is created by default when a new Google Colab notebook is created.\n",
        "\n",
        "Once executed at the beginning of your work, you can **comment this cell out** (by putting `#` in front of each line), so that it is not executed every time you execute the whole notebook ! "
      ]
    },
    {
      "cell_type": "code",
      "execution_count": null,
      "metadata": {
        "colab": {
          "base_uri": "https://localhost:8080/",
          "height": 111,
          "resources": {
            "http://localhost:8080/nbextensions/google.colab/files.js": {
              "data": "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",
              "headers": [
                [
                  "content-type",
                  "application/javascript"
                ]
              ],
              "ok": true,
              "status": 200,
              "status_text": ""
            }
          }
        },
        "id": "42FdYz9lKXAS",
        "outputId": "34a3761d-3859-45ce-9bfa-94d0b104de09"
      },
      "outputs": [
        {
          "output_type": "display_data",
          "data": {
            "text/plain": [
              "<IPython.core.display.HTML object>"
            ],
            "text/html": [
              "\n",
              "     <input type=\"file\" id=\"files-58057645-0e45-430e-a41e-44b9558e5ca9\" name=\"files[]\" multiple disabled\n",
              "        style=\"border:none\" />\n",
              "     <output id=\"result-58057645-0e45-430e-a41e-44b9558e5ca9\">\n",
              "      Upload widget is only available when the cell has been executed in the\n",
              "      current browser session. Please rerun this cell to enable.\n",
              "      </output>\n",
              "      <script src=\"/nbextensions/google.colab/files.js\"></script> "
            ]
          },
          "metadata": {}
        },
        {
          "output_type": "stream",
          "name": "stdout",
          "text": [
            "Saving InputDataHubLargeInstance.xlsx to InputDataHubLargeInstance.xlsx\n",
            "Saving InputDataHubSmallInstance.xlsx to InputDataHubSmallInstance.xlsx\n"
          ]
        }
      ],
      "source": [
        "from google.colab import files, drive\n",
        "import os\n",
        "import shutil\n",
        "\n",
        "uploaded = files.upload()\n",
        "dest_path = \"/content/data/\"\n",
        "os.makedirs(os.path.dirname(dest_path), exist_ok=True)\n",
        "shutil.move(\"/content/InputDataHubLargeInstance.xlsx\", dest_path)\n",
        "shutil.move(\"/content/InputDataHubSmallInstance.xlsx\", dest_path)\n",
        "shutil.rmtree(\"/content/sample_data/\", ignore_errors=True, onerror=None)"
      ]
    },
    {
      "cell_type": "markdown",
      "metadata": {
        "id": "YQvRgd4IJtTa"
      },
      "source": [
        "# Imports of modules\n",
        "\n",
        "Below we import some modules necessary to make this code work properly. \n",
        "\n",
        "You can add other modules here which you might need for your algorithm. "
      ]
    },
    {
      "cell_type": "code",
      "execution_count": null,
      "metadata": {
        "id": "9M3AxrugJOqT"
      },
      "outputs": [],
      "source": [
        "import networkx as nx\n",
        "import pandas as pd\n",
        "import numpy as np\n",
        "import matplotlib.pyplot as plt\n",
        "import pandas as pd\n",
        "import networkx as nx\n",
        "import random"
      ]
    },
    {
      "cell_type": "markdown",
      "metadata": {
        "id": "wlhgCEc8J9-g"
      },
      "source": [
        "# Definitions of constants\n",
        "\n",
        "In the cell below we define some constants that we need in the meta-heuristic. \n",
        "\n",
        "The paths to the data files are also specified here. "
      ]
    },
    {
      "cell_type": "code",
      "execution_count": null,
      "metadata": {
        "id": "pUZEK9kzKJv3"
      },
      "outputs": [],
      "source": [
        "# ILS parameters\n",
        "\n",
        "ALPHA = 0.05\n",
        "MAX_ITER = 150     # maximum number of iterations (Stopping criterion of ILS)\n",
        "MAX_ITER_NI = 50   # number of iterations without improvement of the objective function (Stopping criterion of ILS)\n",
        "MAX_ITER_LS = 100  # maximum number of iterations of the local search operator (Outer loop)\n",
        "MAX_SWAPS = 1      # maximum number of swaps of the local search operator (Inner loop)\n",
        "NB_SWAPS = 1       # number of swaps in the perturbation operator\n",
        "NB_IMPORT = 3       # number of importing the new node\n",
        "\n",
        "# Path to data file\n",
        "\n",
        "#INPUT_DATA = \"/content/data/InputDataHubSmallInstance.xlsx\"  # Small instance\n",
        "INPUT_DATA = \"/content/data/InputDataHubLargeInstance.xlsx\"  # Large instance"
      ]
    },
    {
      "cell_type": "markdown",
      "metadata": {
        "id": "0pQBRZywKzBE"
      },
      "source": [
        "# Functions to load and prepare the data\n",
        "\n",
        "In the cell below, you find two functions : \n",
        "\n",
        "- first, `read_excel_data`, which returns the values of a specific sheet in an Excel file,\n",
        "- then, `create_data_model` which fills the `data` dictionary with the data from the various sheets of the Excel file, as well as some dependent data, which is calculated from the raw data."
      ]
    },
    {
      "cell_type": "code",
      "execution_count": null,
      "metadata": {
        "id": "IDT2OUseKOhz"
      },
      "outputs": [],
      "source": [
        "def read_excel_data(filename, sheet_name):\n",
        "    data = pd.read_excel(filename, sheet_name=sheet_name, header=None)\n",
        "    values = data.values\n",
        "    return values\n",
        "\n",
        "\n",
        "def create_data_model():\n",
        "    data = {}\n",
        "    # This section contains all required data #\n",
        "    node_num = read_excel_data(INPUT_DATA, \"NodeNum\")\n",
        "    data['node_num'] = node_num[0][0]\n",
        "\n",
        "    # Flow between Nodes Read From Excel #\n",
        "    data['flow'] = read_excel_data(INPUT_DATA, \"flow(wij)\")\n",
        "\n",
        "    # Cost between Nodes Read from Excel #\n",
        "    data['var_cost'] = read_excel_data(INPUT_DATA, \"varCost(cij)\")\n",
        "\n",
        "    # Fixed Location Cost Read from Excel #\n",
        "    data['fix_cost'] = read_excel_data(INPUT_DATA, \"fixCost(fk)\")\n",
        "\n",
        "    # Discount Factor Read from Excel #\n",
        "    data['alpha'] = read_excel_data(INPUT_DATA, \"alpha\")\n",
        "\n",
        "    # Discount Factor Read from Excel #\n",
        "    data['cap'] = read_excel_data(INPUT_DATA, \"Cap(ckmax)\")\n",
        "\n",
        "    # Dependent Parameters\n",
        "    data['origin'] = data['flow'].sum(axis=1)\n",
        "    data['destination'] = data['flow'].sum(axis=0)\n",
        "\n",
        "    return data"
      ]
    },
    {
      "cell_type": "markdown",
      "metadata": {
        "id": "ZMNwG52HLi8V"
      },
      "source": [
        "# Functions to calculate the objective function from the solution representation\n",
        "\n",
        "The cell below contains 2 functions to calculate the objective function of an individual: \n",
        "- first `prufer_to_tree` which transforms the Prüfer representation of a solution into a tree, \n",
        "- second, `compute_of` which calculates the fitness (or objective function) of an individual (or a solution)."
      ]
    },
    {
      "cell_type": "code",
      "execution_count": null,
      "metadata": {
        "id": "h10apbZsLHST"
      },
      "outputs": [],
      "source": [
        "def prufer_to_tree(a):\n",
        "    \"\"\"Transform the Prüfer representation into a tree.\"\"\"\n",
        "    tree = []\n",
        "    t = range(0, len(a)+2)\n",
        "\n",
        "    # the degree of each node is how many times it appears\n",
        "    # in the sequence\n",
        "    deg = [1]*len(t)\n",
        "    for i in a:\n",
        "        deg[i] += 1\n",
        "\n",
        "    # for each node label i in a, find the first node j with degree 1 and add\n",
        "    # the edge (j, i) to the tree\n",
        "    for i in a:\n",
        "        for j in t:\n",
        "            if deg[j] == 1:\n",
        "                tree.append((i, j))\n",
        "                # decrement the degrees of i and j\n",
        "                deg[i] -= 1\n",
        "                deg[j] -= 1\n",
        "                break\n",
        "\n",
        "    last = [x for x in t if deg[x] == 1]\n",
        "    tree.append((last[0], last[1]))\n",
        "\n",
        "    return tree\n",
        "\n",
        "\n",
        "def compute_of(individual, data):\n",
        "    \"\"\"Calculate the objective function of the individual.\"\"\"\n",
        "    fitness = 100000000\n",
        "\n",
        "    tree_edges = prufer_to_tree(individual)\n",
        "\n",
        "    graph = nx.Graph(tree_edges)\n",
        "    all_pairs_path = dict(nx.all_pairs_shortest_path(graph))\n",
        "\n",
        "    hubs = np.unique(individual)\n",
        "    fixed_cost = data['fix_cost'][hubs].sum()\n",
        "\n",
        "    variable_cost = 0\n",
        "    flow_to_hub = np.zeros(data['node_num'])\n",
        "    for i in range(data['node_num']):\n",
        "        for j in range(data['node_num']):\n",
        "            if j > i:\n",
        "                for x in range(len(all_pairs_path[i][j]) - 1):\n",
        "                    route = all_pairs_path[i][j]\n",
        "                    if route[x] in hubs and route[x + 1] in hubs:\n",
        "                        variable_cost = variable_cost + data['alpha'] * data['var_cost'][route[x], route[x + 1]] * (data['flow'][i, j] + data['flow'][j, i])\n",
        "                    else:\n",
        "                        variable_cost = variable_cost + data['var_cost'][route[x], route[x + 1]] * (data['flow'][i, j] + data['flow'][j, i])\n",
        "\n",
        "        fitness = fixed_cost + variable_cost[0]\n",
        "\n",
        "    # Calculating the Entering flow to Each Hub #\n",
        "    for i in range(len(tree_edges)):\n",
        "        if tree_edges[i][0] not in hubs:\n",
        "            flow_to_hub[tree_edges[i][1]] = flow_to_hub[tree_edges[i][1]] + (data['origin'][tree_edges[i][0]] + data['destination'][tree_edges[i][0]])\n",
        "        elif tree_edges[i][1] not in hubs:\n",
        "            flow_to_hub[tree_edges[i][0]] = flow_to_hub[tree_edges[i][0]] + (data['origin'][tree_edges[i][1]] + data['destination'][tree_edges[i][1]])\n",
        "    for i in range(len(hubs)):\n",
        "        flow_to_hub[hubs[i]] = flow_to_hub[hubs[i]] + (data['origin'][hubs[i]] + data['destination'][hubs[i]])\n",
        "\n",
        "    # Feasibility Check: Capacity Constraint #\n",
        "    exceed = np.subtract(data['cap'], flow_to_hub)\n",
        "    exceed_cap = exceed[hubs, hubs]\n",
        "    if min(exceed_cap) < 0:\n",
        "        fitness = np.dot(fitness, 100000000)\n",
        "\n",
        "    return fitness"
      ]
    },
    {
      "cell_type": "markdown",
      "metadata": {
        "id": "0ozSvLncMWrt"
      },
      "source": [
        "# Functions to create solutions or individuals\n",
        "\n",
        "The cell below contains two functions regarding individuals:\n",
        "\n",
        "- first, `generate_individual` to create a random individual, \n",
        "- second, `initial_solution` which returns this single randomly generated individual and its fitness."
      ]
    },
    {
      "cell_type": "code",
      "execution_count": null,
      "metadata": {
        "id": "XotlcDdbLAKn"
      },
      "outputs": [],
      "source": [
        "def generate_individual(node_num):\n",
        "    \"\"\"Generate a random individual.\"\"\"\n",
        "    individual = np.ndarray.tolist(np.random.randint(0, high=node_num-1, size=node_num-2, dtype='int'))\n",
        "    return individual\n",
        "\n",
        "\n",
        "def initial_solution(data):\n",
        "    \"\"\"Generate a solution and calculate its objective function.\"\"\"\n",
        "    solution = []\n",
        "\n",
        "    # here we are generating only one initial solution\n",
        "    solution.append(generate_individual(data['node_num']))\n",
        "\n",
        "    value_of = compute_of(solution[0], data)\n",
        "   \n",
        "    return solution, value_of"
      ]
    },
    {
      "cell_type": "markdown",
      "metadata": {
        "id": "EhReYN5zMoFR"
      },
      "source": [
        "# Functions for the local search"
      ]
    },
    {
      "cell_type": "code",
      "source": [
        "#This fonction is used to generate the complete two columns(hubs, spokes) corresponding to the solution\n",
        "def generate_hubs_spokes(sol):\n",
        "    list_hub = []\n",
        "    list_spoke = []\n",
        "    hubs = np.unique(sol).tolist()\n",
        "    sol = list(sol)\n",
        "    tree = prufer_to_tree(sol)\n",
        "    for i in tree:\n",
        "        elem = list(i)\n",
        "        if elem[0] in hubs:\n",
        "            list_hub.append(elem[0])\n",
        "            list_spoke.append(elem[1])\n",
        "        else:\n",
        "            list_hub.append(elem[1])\n",
        "            list_spoke.append(elem[0])\n",
        "    return list_hub, list_spoke"
      ],
      "metadata": {
        "id": "JSvhmNks9ySq"
      },
      "execution_count": null,
      "outputs": []
    },
    {
      "cell_type": "code",
      "source": [
        "#This function uses the list of hubs and spokes to generate the solution(sol) that correspond to the solution after a local search\n",
        "def generate_sol(list_hub, list_spoke):\n",
        "    sol=[]\n",
        "    #Count the depth of each node\n",
        "    deg = [0]*(len(list_hub)+1)\n",
        "    for i,j in zip(list_hub,list_spoke):\n",
        "        deg[i] += 1\n",
        "        deg[j] += 1\n",
        "    #Search for the point in list of spokes with depth 1 starting from the first element and add it to sol\n",
        "    for i in range(0, len(list_hub)-1):\n",
        "        for j in range(0, len(list_hub)+1):\n",
        "            if deg[j]==1 and j in list_spoke:\n",
        "                hub_location = list_hub[list_spoke.index(j)]\n",
        "                sol.append(hub_location)   \n",
        "                deg[j] -= 1\n",
        "                deg[hub_location] -= 1\n",
        "                break\n",
        "    return sol"
      ],
      "metadata": {
        "id": "98b9rL02LGvR"
      },
      "execution_count": null,
      "outputs": []
    },
    {
      "cell_type": "code",
      "source": [
        "#Generate and return a generator containing combinations of numbers like(i,j) from n1 to n2\n",
        "def unique_pairs(n1,n2):\n",
        "    \"\"\"Produce pairs of indexes in range(n1,n2)\"\"\"\n",
        "    for i in range(n1,n2,1):\n",
        "        for j in range(i + 1, n2, 1):\n",
        "            yield i, j"
      ],
      "metadata": {
        "id": "gRM6b_rKP6VE"
      },
      "execution_count": null,
      "outputs": []
    },
    {
      "cell_type": "code",
      "source": [
        "# The following function is a sub-function to do a single reversion move on the solution (i.e., revesing the order of elements between positions p1 and p2) \n",
        "def reverse(p1, p2, parent):\n",
        "    \"\"\"Reversion operator.\"\"\"\n",
        "    for (i,j) in unique_pairs(p1,p2):\n",
        "      tmp = parent[i]\n",
        "      parent[i] = parent[j]\n",
        "      parent[j] = tmp\n",
        "    return parent"
      ],
      "metadata": {
        "id": "J3rAX7rKPyl_"
      },
      "execution_count": null,
      "outputs": []
    },
    {
      "cell_type": "code",
      "source": [
        "#Confirm that the solution after a series of search operations is a feasible solution\n",
        "def valid(length, sol):\n",
        "  #Verify that the length of the solution is equal to node_num-2\n",
        "  if(len(sol) != length):\n",
        "    return False\n",
        "  else:\n",
        "    #Confirming the structure of the tree\n",
        "    label = 0 \n",
        "    for i in range(0, len(sol)):\n",
        "        for j in range(i, len(sol)):\n",
        "            if sol[i]!= sol[j]:\n",
        "              label = 1\n",
        "    if label == 1:\n",
        "      nb = 0\n",
        "      length = int(len(sol))\n",
        "      for i in range(0, len(sol)//2):\n",
        "        if(sol[i]==sol[length-i-2]):\n",
        "          nb = nb+1\n",
        "      if(nb != len(sol)//2):\n",
        "        return True\n",
        "    return False"
      ],
      "metadata": {
        "id": "HoB_4EQeSljn"
      },
      "execution_count": null,
      "outputs": []
    },
    {
      "cell_type": "code",
      "source": [
        "#The first method of local search----swap on the spokes\n",
        "\n",
        "def reverse_neighborhood(sol, best_of, data):\n",
        "    \n",
        "    \"\"\"Neighborhood generation with a reversion operator.\"\"\"\n",
        "    #generate the complete list of spokes and the list of hubs that describe the relation between the hubs and spokes with length of node_num-1 \n",
        "    list_hub, list_spoke = generate_hubs_spokes(sol)\n",
        "    parents = []\n",
        "    #generate the list of nodes which are the hubs \n",
        "    hubs = np.unique(sol).tolist()\n",
        "    #generate the list of nodes which are the spokes\n",
        "    for i in list_spoke:\n",
        "        if i not in hubs:\n",
        "            parents.append(i)\n",
        "\n",
        "    #reverse parent in MAX_SWAPS times\n",
        "    nb_swaps = 0\n",
        "    #The variable used to record whether optimization is generated\n",
        "    label = 0\n",
        "    solutions = []\n",
        "    while nb_swaps <= MAX_SWAPS :\n",
        "        nb_swaps += 1\n",
        "        size = len(parents)\n",
        "        #Generate two random numbers between 0 and size to provide the starting and ending positions of the reversed elements\n",
        "        p1 = np.ndarray.tolist(np.random.randint(0, high=size/2, size=1, dtype='int'))[0]\n",
        "        p2 = np.ndarray.tolist(np.random.randint(size/2, high=size, size=1, dtype='int'))[0]\n",
        "        #result is the list of spokes that has been reversed \n",
        "        result = reverse(p1, p2, parents)*1\n",
        "        for i in range(0,len(list_spoke)):\n",
        "            if list_spoke[i] not in hubs:\n",
        "              list_spoke[i] = result[0]\n",
        "              result.pop(0)\n",
        "        new_sol = generate_sol(list_hub, list_spoke)\n",
        "        if valid(len(list_hub)-1, new_sol):\n",
        "          new_of = compute_of(new_sol,data)[0]\n",
        "          if(new_of < best_of):\n",
        "            parents = reverse(p1, p2, parents)\n",
        "            best_of = new_of\n",
        "            sol = new_sol\n",
        "            label = 1\n",
        "    return [sol,best_of],label"
      ],
      "metadata": {
        "id": "nj-ZuW8zSE3n"
      },
      "execution_count": null,
      "outputs": []
    },
    {
      "cell_type": "code",
      "source": [
        "#The second method of local search-----Re-allocation of single spokes to the existing Hubs\n",
        "def re_allocation(sol, best_of, data):\n",
        "    #generate the complete list of spokes and the list of hubs that describe the relation between the hubs and spokes with length of node_num-1 \n",
        "    list_hub, list_spoke = generate_hubs_spokes(sol)\n",
        "    parents = []\n",
        "    #generate the list of nodes which are the hubs \n",
        "    hubs = np.unique(sol).tolist()\n",
        "    #generate the list of nodes which are the spokes\n",
        "    for i in list_spoke:\n",
        "        if i not in hubs:\n",
        "            parents.append(i)\n",
        "    #generate the location to re-allocation of single spokes to the existing Hubs\n",
        "    index = np.ndarray.tolist(np.random.randint(0, high=len(list_hub), size=1, dtype='int'))[0]\n",
        "    solution = [sol]\n",
        "    values = [best_of]\n",
        "    hubs.remove(list_hub[index])\n",
        "    for i in hubs:\n",
        "        list_hub[index] = i\n",
        "        new_sol = generate_sol(list_hub, list_spoke)\n",
        "        if valid(len(list_hub)-1, new_sol):\n",
        "            solution.append(new_sol)\n",
        "            values.append(compute_of(new_sol,data)[0])\n",
        "    best_value = min(values)\n",
        "    sol1 = solution[values.index(best_value)]\n",
        "    if(best_of > best_value):\n",
        "        return [sol1, best_value],1\n",
        "    else:\n",
        "        return [sol, best_of],0"
      ],
      "metadata": {
        "id": "0qVUiwmQcTI9"
      },
      "execution_count": null,
      "outputs": []
    },
    {
      "cell_type": "code",
      "source": [
        "#The third method of local search-----Adding new node to the solution\n",
        "def import_new_hub(sol, best_of, data):\n",
        "    list1 = list(range(0, data['node_num']))\n",
        "    parent = []\n",
        "    hubs = np.unique(sol).tolist()\n",
        "    for i in list1:\n",
        "      if i not in hubs:\n",
        "        parent.append(i)\n",
        "    nb_import = 0\n",
        "    solution = [sol]\n",
        "    values = [best_of]\n",
        "    while nb_import < NB_IMPORT: \n",
        "      nb_import = nb_import+1\n",
        "      new_sol = sol*1\n",
        "      i = np.ndarray.tolist(np.random.randint(0, high=len(parent), size=1, dtype='int'))[0]\n",
        "      j = np.ndarray.tolist(np.random.randint(0, high=len(sol), size=1, dtype='int'))[0]\n",
        "      new_sol[j] = parent[i]\n",
        "      solution.append(new_sol)\n",
        "      values.append(compute_of(new_sol,data)[0])\n",
        "    best_value = min(values)\n",
        "    sol1 = solution[values.index(best_value)]\n",
        "    if(best_of > best_value):\n",
        "      return [sol1, best_value],1\n",
        "    else:\n",
        "      return [sol, best_of],0"
      ],
      "metadata": {
        "id": "zugGvViB1KGP"
      },
      "execution_count": null,
      "outputs": []
    },
    {
      "cell_type": "code",
      "source": [
        "## This function is for the local search operator\n",
        "\n",
        "def local_search(of, sol, data):\n",
        "    \"\"\"Perform a local search.\"\"\"\n",
        "    # number of iterations local search\n",
        "    nb_iterations = 0\n",
        "    best_of = of\n",
        "    solutions = []\n",
        "    best = []\n",
        "    solutions.append(sol)\n",
        "    best.append(of)\n",
        "    # Main loop local search\n",
        "    # Local search operators is repeated MAX_ITER_LS times\n",
        "    while nb_iterations <= MAX_ITER_LS:\n",
        "        nb_iterations += 1\n",
        "        # use an operator to perform local search\n",
        "        # The first methode to implement local research\n",
        "        of ,n= reverse_neighborhood(sol, best_of, data)\n",
        "        # if n==1, it shows that we have the better solution to replace the solution now\n",
        "        if(n==1):\n",
        "          solutions.append(of[0])\n",
        "          best.append(of[1])\n",
        "          sol = of[0]\n",
        "          best_of = of[1]\n",
        "        # The second methode to implement local research\n",
        "        of, n= re_allocation(sol, best_of, data)\n",
        "        if(n==1):\n",
        "          solutions.append(of[0])\n",
        "          best.append(of[1])\n",
        "          sol = of[0]\n",
        "          best_of = of[1]\n",
        "        # The third methode to implement local research\n",
        "        of, n= import_new_hub(sol, best_of, data)\n",
        "        if(n==1):\n",
        "          solutions.append(of[0])\n",
        "          best.append(of[1])\n",
        "          sol = of[0]\n",
        "          best_of = of[1]\n",
        "    best_of = min(best)\n",
        "    best_sol = solutions[best.index(best_of)]\n",
        "    return best_of, best_sol"
      ],
      "metadata": {
        "id": "J3euGyzu3rSS"
      },
      "execution_count": null,
      "outputs": []
    },
    {
      "cell_type": "markdown",
      "metadata": {
        "id": "2gDKv178N0NO"
      },
      "source": [
        "# Functions for the perturbation of solutions"
      ]
    },
    {
      "cell_type": "code",
      "source": [
        "# The following function is a sub-function to do a single swap move on the solution (i.e., changing the elements at positions p1 and p2)\n",
        "def swap(i, j, sol):\n",
        "    \"\"\"Swap operator.\"\"\"\n",
        "    tmp = sol[i]\n",
        "    sol[i] = sol[j]\n",
        "    sol[j] = tmp"
      ],
      "metadata": {
        "id": "Q495apCt9PCh"
      },
      "execution_count": null,
      "outputs": []
    },
    {
      "cell_type": "code",
      "source": [
        "def random_swap(sol,data):\n",
        "  for k in range(NB_SWAPS):\n",
        "    i,j=random.sample(range(0,len(sol)),2)\n",
        "    swap(i,j,sol)\n",
        "  return sol"
      ],
      "metadata": {
        "id": "E0PswC6W9Y4m"
      },
      "execution_count": null,
      "outputs": []
    },
    {
      "cell_type": "code",
      "source": [
        "def perturb(sol, data):\n",
        "  pert_sol = random_swap(sol,data)\n",
        "  pert_of = compute_of(pert_sol, data)\n",
        "  return pert_of[0], pert_sol"
      ],
      "metadata": {
        "id": "YIwQQfMD9MzU"
      },
      "execution_count": null,
      "outputs": []
    },
    {
      "cell_type": "markdown",
      "metadata": {
        "id": "pvKfEcCyN9V1"
      },
      "source": [
        "# Main\n"
      ]
    },
    {
      "cell_type": "code",
      "execution_count": null,
      "metadata": {
        "id": "0kCpz-PhObA_",
        "colab": {
          "base_uri": "https://localhost:8080/",
          "height": 1000
        },
        "outputId": "c3c951ba-6cd6-48d6-9fcb-8ef8d4b0feb7"
      },
      "outputs": [
        {
          "output_type": "stream",
          "name": "stdout",
          "text": [
            "Random solution\n",
            "Initial objective function value: [3.34397708e+16]\n",
            "Solution: [[28, 25, 23, 28, 19, 20, 22, 6, 20, 27, 28, 0, 0, 20, 13, 23, 0, 20, 3, 13, 13, 26, 19, 21, 21, 28, 27, 4]]\n",
            "tree: [(28, 1), (25, 2), (23, 5), (28, 7), (19, 8), (20, 9), (22, 10), (6, 11), (20, 6), (27, 12), (28, 14), (0, 15), (0, 16), (20, 17), (13, 18), (23, 22), (0, 23), (20, 0), (3, 20), (13, 3), (13, 24), (26, 13), (19, 25), (21, 19), (21, 26), (28, 21), (27, 28), (4, 27), (4, 29)]\n",
            "\n",
            "Local Search\n",
            "Objective function value: [3.34397708e+16]\n",
            "Tour: [28, 25, 23, 28, 19, 20, 22, 6, 20, 27, 28, 0, 0, 20, 13, 23, 0, 20, 3, 13, 13, 26, 19, 21, 21, 28, 27, 4]\n",
            "[(28, 1), (25, 2), (23, 5), (28, 7), (19, 8), (20, 9), (22, 10), (6, 11), (20, 6), (27, 12), (28, 14), (0, 15), (0, 16), (20, 17), (13, 18), (23, 22), (0, 23), (20, 0), (3, 20), (13, 3), (13, 24), (26, 13), (19, 25), (21, 19), (21, 26), (28, 21), (27, 28), (4, 27), (4, 29)]\n"
          ]
        },
        {
          "output_type": "display_data",
          "data": {
            "text/plain": [
              "<Figure size 432x288 with 1 Axes>"
            ],
            "image/png": "[encoded data removed]"
          },
          "metadata": {}
        },
        {
          "output_type": "stream",
          "name": "stdout",
          "text": [
            "best_of_pert:  1 1.614256496e+16\n",
            "best_of_pert:  2 1.5097477950000006e+16\n",
            "best_of_pert:  3 1.4986319630000002e+16\n",
            "best_of_pert:  4 1.4575978110000006e+16\n",
            "best_of_pert:  5 1.4177420489999994e+16\n",
            "best_of_pert:  6 1.4046022079999998e+16\n",
            "best_of_pert:  7 1.4046022079999998e+16\n",
            "best_of_pert:  8 1.4046022079999998e+16\n",
            "best_of_pert:  9 1.4573684199999998e+16\n",
            "best_of_pert:  10 1.4122273359999994e+16\n",
            "best_of_pert:  11 1.4289450899999992e+16\n",
            "best_of_pert:  12 1.3810358569999992e+16\n",
            "best_of_pert:  13 1.365744797999999e+16\n",
            "best_of_pert:  14 1.3889126179999986e+16\n",
            "best_of_pert:  15 1.3599962959999984e+16\n",
            "best_of_pert:  16 1.3623577549999988e+16\n",
            "best_of_pert:  17 1.357056595999999e+16\n",
            "best_of_pert:  18 1.357056595999999e+16\n",
            "best_of_pert:  19 1.361230252999999e+16\n",
            "best_of_pert:  20 1.361230252999999e+16\n",
            "best_of_pert:  21 1.3793327099999994e+16\n",
            "best_of_pert:  22 1.3789752059999994e+16\n",
            "best_of_pert:  23 1.376433011999999e+16\n",
            "best_of_pert:  24 1.3825510129999998e+16\n",
            "best_of_pert:  25 1.3625605989999992e+16\n",
            "best_of_pert:  26 1.3625605989999992e+16\n",
            "best_of_pert:  27 1.3533035899999988e+16\n",
            "best_of_pert:  28 1.3533035899999988e+16\n",
            "best_of_pert:  29 1.3933335669999996e+16\n",
            "best_of_pert:  30 1.3301210149999988e+16\n",
            "best_of_pert:  31 1.3301210149999988e+16\n",
            "best_of_pert:  32 1.3224732729999986e+16\n",
            "best_of_pert:  33 1.3224732729999986e+16\n",
            "best_of_pert:  34 1.3301210149999988e+16\n",
            "best_of_pert:  35 1.3301210149999988e+16\n",
            "best_of_pert:  36 1.3301210149999988e+16\n",
            "best_of_pert:  37 1.3301210149999988e+16\n",
            "best_of_pert:  38 1.3301210149999988e+16\n",
            "best_of_pert:  39 1.3301210149999988e+16\n",
            "best_of_pert:  40 1.3301210149999988e+16\n",
            "best_of_pert:  41 1.3676749039999992e+16\n",
            "best_of_pert:  42 1.3533035899999988e+16\n",
            "best_of_pert:  43 1.3533035899999988e+16\n",
            "best_of_pert:  44 1.3533035899999988e+16\n",
            "best_of_pert:  45 1.3533035899999988e+16\n",
            "best_of_pert:  46 1.3533035899999988e+16\n",
            "best_of_pert:  47 1.3858529899999982e+16\n",
            "best_of_pert:  48 1.3456558479999986e+16\n",
            "best_of_pert:  49 1.3475763119999986e+16\n",
            "best_of_pert:  50 1.3456558479999986e+16\n",
            "best_of_pert:  51 1.3456558479999986e+16\n",
            "best_of_pert:  52 1.3456558479999986e+16\n",
            "best_of_pert:  53 1.3548723669999986e+16\n",
            "best_of_pert:  54 1.3548723669999986e+16\n",
            "best_of_pert:  55 1.3625201089999986e+16\n",
            "best_of_pert:  56 1.3533035899999988e+16\n",
            "best_of_pert:  57 1.3533035899999988e+16\n",
            "best_of_pert:  58 1.3533035899999988e+16\n",
            "best_of_pert:  59 1.3533035899999988e+16\n",
            "best_of_pert:  60 1.3533035899999988e+16\n",
            "best_of_pert:  61 1.3735345119999986e+16\n",
            "best_of_pert:  62 1.3430998249999986e+16\n",
            "best_of_pert:  63 1.3755400829999992e+16\n",
            "best_of_pert:  64 1.3799468289999992e+16\n",
            "best_of_pert:  65 1.3353373999999986e+16\n",
            "best_of_pert:  66 1.3353373999999986e+16\n",
            "best_of_pert:  67 1.3388729599999986e+16\n",
            "best_of_pert:  68 1.3353373999999986e+16\n",
            "best_of_pert:  69 1.352121925999999e+16\n",
            "best_of_pert:  70 1.3755514269999986e+16\n",
            "best_of_pert:  71 1.352121925999999e+16\n",
            "best_of_pert:  72 1.3353373999999986e+16\n",
            "best_of_pert:  73 1.3353373999999986e+16\n",
            "best_of_pert:  74 1.3353373999999986e+16\n",
            "best_of_pert:  75 1.3416089029999984e+16\n",
            "best_of_pert:  76 1.3416089029999984e+16\n",
            "best_of_pert:  77 1.3353373999999986e+16\n",
            "best_of_pert:  78 1.3353373999999986e+16\n",
            "best_of_pert:  79 1.3353373999999986e+16\n",
            "best_of_pert:  80 1.3353373999999986e+16\n",
            "best_of_pert:  81 1.3388729599999986e+16\n",
            "best_of_pert:  82 1.3353373999999986e+16\n",
            "best_of_pert:  83 1.3416089029999984e+16\n",
            "\n",
            "\n",
            "After 83  ILS iterations, the best solution is:\n",
            "[13, 11, 5, 20, 20, 11, 5, 6, 25, 11, 5, 28, 17, 11, 5, 6, 11, 11, 6, 11, 5, 11, 11, 10, 11, 11, 11, 23]\n",
            "with total cost: 1.3224732729999986e+16\n",
            "improve: 51 50\n",
            "flag_continue: True\n"
          ]
        },
        {
          "output_type": "display_data",
          "data": {
            "text/plain": [
              "<Figure size 432x288 with 1 Axes>"
            ],
            "image/png": "[encoded data removed]"
          },
          "metadata": {}
        }
      ],
      "source": [
        "if __name__ == \"__main__\":\n",
        "    # *************************Initialisation***************************\n",
        "    # initialise the data\n",
        "    data = create_data_model()\n",
        "\n",
        "    # init number of iterations\n",
        "    nb_iterations = 0\n",
        "\n",
        "    # find initial solution (just one) with a constructive heuristic\n",
        "    best_sol, best_of = initial_solution(data)\n",
        "\n",
        "    # ********************************************************************\n",
        "\n",
        "    print(\"Random solution\")\n",
        "    print(\"Initial objective function value:\", best_of)\n",
        "    print(\"Solution:\", best_sol)\n",
        "    print(\"tree:\", prufer_to_tree(best_sol[0]))\n",
        "    # **************************Local Search******************************\n",
        "\n",
        "    best_of, best_sol = (best_of, best_sol[0])\n",
        "    best_known = best_sol\n",
        "    best_of_known = best_of\n",
        "\n",
        "    print(\"\\nLocal Search\")\n",
        "    print(\"Objective function value:\", best_of)\n",
        "    print(\"Tour:\", best_sol)\n",
        "\n",
        "    best_solution = prufer_to_tree(best_sol)\n",
        "\n",
        "    print(best_solution)\n",
        "\n",
        "    graph = nx.Graph(best_solution)\n",
        "    plt.figure(2)\n",
        "    nx.draw(graph, with_labels=True)\n",
        "    plt.show()\n",
        "\n",
        "    # ********************************************************************\n",
        "\n",
        "    # ******************************ILS***********************************\n",
        "    flag_continue = True\n",
        "    improve = 0\n",
        "\n",
        "    while flag_continue and nb_iterations <= MAX_ITER and improve <= MAX_ITER_NI:\n",
        "\n",
        "        nb_iterations += 1\n",
        "        # ******************Perturbation**********************************\n",
        "        pert_of, pert_sol = perturb(best_sol, data)\n",
        "        # print(pert_of)\n",
        "\n",
        "        # ******************Local Search***********************************\n",
        "        best_of_pert, best_sol_pert = local_search(pert_of, pert_sol, data)\n",
        "        print(\"best_of_pert: \" ,nb_iterations, best_of_pert)\n",
        "\n",
        "        # ******************Aceptance criterion***************************\n",
        "        if best_of_pert < best_of_known:\n",
        "            best_known = best_sol_pert\n",
        "            best_of_known = best_of_pert\n",
        "            improve = 0\n",
        "        else:\n",
        "            improve += 1\n",
        "\n",
        "        if best_of_pert < best_of * (1 + ALPHA):\n",
        "            best_of = best_of_pert\n",
        "            best_sol = best_sol_pert\n",
        "        else:\n",
        "            flag_continue = False\n",
        "\n",
        "    print(\"\\n\")\n",
        "    print(\"After\", nb_iterations, \" ILS iterations, the best solution is:\")\n",
        "    print(best_known)\n",
        "    print(\"with total cost:\", best_of_known)\n",
        "\n",
        "    print(\"improve:\", improve, MAX_ITER_NI)\n",
        "    print(\"flag_continue:\", flag_continue)\n",
        "\n",
        "    best_solution = prufer_to_tree(best_known)\n",
        "\n",
        "    graph = nx.Graph(best_solution)\n",
        "    plt.figure(2)\n",
        "    nx.draw(graph, with_labels=True)\n",
        "    plt.show()"
      ]
    }
  ],
  "metadata": {
    "colab": {
      "provenance": []
    },
    "kernelspec": {
      "display_name": "Python 3",
      "name": "python3"
    }
  },
  "nbformat": 4,
  "nbformat_minor": 0
}